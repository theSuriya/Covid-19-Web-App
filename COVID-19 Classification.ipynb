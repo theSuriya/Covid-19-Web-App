{
 "cells": [
  {
   "cell_type": "markdown",
   "id": "c098c7cc",
   "metadata": {},
   "source": [
    "### Import Necessary Modules"
   ]
  },
  {
   "cell_type": "code",
   "execution_count": 1,
   "id": "3431780a",
   "metadata": {},
   "outputs": [],
   "source": [
    "import pandas as pd\n",
    "import matplotlib.pyplot as plt\n",
    "import numpy as np\n",
    "import seaborn as sns\n",
    "from sklearn.model_selection import train_test_split\n",
    "from sklearn.ensemble import RandomForestClassifier\n",
    "from sklearn.model_selection import cross_val_score\n",
    "from sklearn.preprocessing import LabelEncoder\n",
    "from sklearn.preprocessing import MinMaxScaler"
   ]
  },
  {
   "cell_type": "code",
   "execution_count": 2,
   "id": "39dedfad",
   "metadata": {},
   "outputs": [],
   "source": [
    "df = pd.read_csv('Covid Data.csv')# Load the dataset"
   ]
  },
  {
   "cell_type": "code",
   "execution_count": 3,
   "id": "2881da19",
   "metadata": {},
   "outputs": [
    {
     "data": {
      "text/html": [
       "<div>\n",
       "<style scoped>\n",
       "    .dataframe tbody tr th:only-of-type {\n",
       "        vertical-align: middle;\n",
       "    }\n",
       "\n",
       "    .dataframe tbody tr th {\n",
       "        vertical-align: top;\n",
       "    }\n",
       "\n",
       "    .dataframe thead th {\n",
       "        text-align: right;\n",
       "    }\n",
       "</style>\n",
       "<table border=\"1\" class=\"dataframe\">\n",
       "  <thead>\n",
       "    <tr style=\"text-align: right;\">\n",
       "      <th></th>\n",
       "      <th>USMER</th>\n",
       "      <th>MEDICAL_UNIT</th>\n",
       "      <th>SEX</th>\n",
       "      <th>PATIENT_TYPE</th>\n",
       "      <th>DATE_DIED</th>\n",
       "      <th>INTUBED</th>\n",
       "      <th>PNEUMONIA</th>\n",
       "      <th>AGE</th>\n",
       "      <th>PREGNANT</th>\n",
       "      <th>DIABETES</th>\n",
       "      <th>...</th>\n",
       "      <th>ASTHMA</th>\n",
       "      <th>INMSUPR</th>\n",
       "      <th>HIPERTENSION</th>\n",
       "      <th>OTHER_DISEASE</th>\n",
       "      <th>CARDIOVASCULAR</th>\n",
       "      <th>OBESITY</th>\n",
       "      <th>RENAL_CHRONIC</th>\n",
       "      <th>TOBACCO</th>\n",
       "      <th>CLASIFFICATION_FINAL</th>\n",
       "      <th>ICU</th>\n",
       "    </tr>\n",
       "  </thead>\n",
       "  <tbody>\n",
       "    <tr>\n",
       "      <th>0</th>\n",
       "      <td>2</td>\n",
       "      <td>1</td>\n",
       "      <td>1</td>\n",
       "      <td>1</td>\n",
       "      <td>03/05/2020</td>\n",
       "      <td>97</td>\n",
       "      <td>1</td>\n",
       "      <td>65</td>\n",
       "      <td>2</td>\n",
       "      <td>2</td>\n",
       "      <td>...</td>\n",
       "      <td>2</td>\n",
       "      <td>2</td>\n",
       "      <td>1</td>\n",
       "      <td>2</td>\n",
       "      <td>2</td>\n",
       "      <td>2</td>\n",
       "      <td>2</td>\n",
       "      <td>2</td>\n",
       "      <td>3</td>\n",
       "      <td>97</td>\n",
       "    </tr>\n",
       "    <tr>\n",
       "      <th>1</th>\n",
       "      <td>2</td>\n",
       "      <td>1</td>\n",
       "      <td>2</td>\n",
       "      <td>1</td>\n",
       "      <td>03/06/2020</td>\n",
       "      <td>97</td>\n",
       "      <td>1</td>\n",
       "      <td>72</td>\n",
       "      <td>97</td>\n",
       "      <td>2</td>\n",
       "      <td>...</td>\n",
       "      <td>2</td>\n",
       "      <td>2</td>\n",
       "      <td>1</td>\n",
       "      <td>2</td>\n",
       "      <td>2</td>\n",
       "      <td>1</td>\n",
       "      <td>1</td>\n",
       "      <td>2</td>\n",
       "      <td>5</td>\n",
       "      <td>97</td>\n",
       "    </tr>\n",
       "    <tr>\n",
       "      <th>2</th>\n",
       "      <td>2</td>\n",
       "      <td>1</td>\n",
       "      <td>2</td>\n",
       "      <td>2</td>\n",
       "      <td>09/06/2020</td>\n",
       "      <td>1</td>\n",
       "      <td>2</td>\n",
       "      <td>55</td>\n",
       "      <td>97</td>\n",
       "      <td>1</td>\n",
       "      <td>...</td>\n",
       "      <td>2</td>\n",
       "      <td>2</td>\n",
       "      <td>2</td>\n",
       "      <td>2</td>\n",
       "      <td>2</td>\n",
       "      <td>2</td>\n",
       "      <td>2</td>\n",
       "      <td>2</td>\n",
       "      <td>3</td>\n",
       "      <td>2</td>\n",
       "    </tr>\n",
       "    <tr>\n",
       "      <th>3</th>\n",
       "      <td>2</td>\n",
       "      <td>1</td>\n",
       "      <td>1</td>\n",
       "      <td>1</td>\n",
       "      <td>12/06/2020</td>\n",
       "      <td>97</td>\n",
       "      <td>2</td>\n",
       "      <td>53</td>\n",
       "      <td>2</td>\n",
       "      <td>2</td>\n",
       "      <td>...</td>\n",
       "      <td>2</td>\n",
       "      <td>2</td>\n",
       "      <td>2</td>\n",
       "      <td>2</td>\n",
       "      <td>2</td>\n",
       "      <td>2</td>\n",
       "      <td>2</td>\n",
       "      <td>2</td>\n",
       "      <td>7</td>\n",
       "      <td>97</td>\n",
       "    </tr>\n",
       "    <tr>\n",
       "      <th>4</th>\n",
       "      <td>2</td>\n",
       "      <td>1</td>\n",
       "      <td>2</td>\n",
       "      <td>1</td>\n",
       "      <td>21/06/2020</td>\n",
       "      <td>97</td>\n",
       "      <td>2</td>\n",
       "      <td>68</td>\n",
       "      <td>97</td>\n",
       "      <td>1</td>\n",
       "      <td>...</td>\n",
       "      <td>2</td>\n",
       "      <td>2</td>\n",
       "      <td>1</td>\n",
       "      <td>2</td>\n",
       "      <td>2</td>\n",
       "      <td>2</td>\n",
       "      <td>2</td>\n",
       "      <td>2</td>\n",
       "      <td>3</td>\n",
       "      <td>97</td>\n",
       "    </tr>\n",
       "    <tr>\n",
       "      <th>...</th>\n",
       "      <td>...</td>\n",
       "      <td>...</td>\n",
       "      <td>...</td>\n",
       "      <td>...</td>\n",
       "      <td>...</td>\n",
       "      <td>...</td>\n",
       "      <td>...</td>\n",
       "      <td>...</td>\n",
       "      <td>...</td>\n",
       "      <td>...</td>\n",
       "      <td>...</td>\n",
       "      <td>...</td>\n",
       "      <td>...</td>\n",
       "      <td>...</td>\n",
       "      <td>...</td>\n",
       "      <td>...</td>\n",
       "      <td>...</td>\n",
       "      <td>...</td>\n",
       "      <td>...</td>\n",
       "      <td>...</td>\n",
       "      <td>...</td>\n",
       "    </tr>\n",
       "    <tr>\n",
       "      <th>1048570</th>\n",
       "      <td>2</td>\n",
       "      <td>13</td>\n",
       "      <td>2</td>\n",
       "      <td>1</td>\n",
       "      <td>9999-99-99</td>\n",
       "      <td>97</td>\n",
       "      <td>2</td>\n",
       "      <td>40</td>\n",
       "      <td>97</td>\n",
       "      <td>2</td>\n",
       "      <td>...</td>\n",
       "      <td>2</td>\n",
       "      <td>2</td>\n",
       "      <td>2</td>\n",
       "      <td>2</td>\n",
       "      <td>2</td>\n",
       "      <td>2</td>\n",
       "      <td>2</td>\n",
       "      <td>2</td>\n",
       "      <td>7</td>\n",
       "      <td>97</td>\n",
       "    </tr>\n",
       "    <tr>\n",
       "      <th>1048571</th>\n",
       "      <td>1</td>\n",
       "      <td>13</td>\n",
       "      <td>2</td>\n",
       "      <td>2</td>\n",
       "      <td>9999-99-99</td>\n",
       "      <td>2</td>\n",
       "      <td>2</td>\n",
       "      <td>51</td>\n",
       "      <td>97</td>\n",
       "      <td>2</td>\n",
       "      <td>...</td>\n",
       "      <td>2</td>\n",
       "      <td>2</td>\n",
       "      <td>1</td>\n",
       "      <td>2</td>\n",
       "      <td>2</td>\n",
       "      <td>2</td>\n",
       "      <td>2</td>\n",
       "      <td>2</td>\n",
       "      <td>7</td>\n",
       "      <td>2</td>\n",
       "    </tr>\n",
       "    <tr>\n",
       "      <th>1048572</th>\n",
       "      <td>2</td>\n",
       "      <td>13</td>\n",
       "      <td>2</td>\n",
       "      <td>1</td>\n",
       "      <td>9999-99-99</td>\n",
       "      <td>97</td>\n",
       "      <td>2</td>\n",
       "      <td>55</td>\n",
       "      <td>97</td>\n",
       "      <td>2</td>\n",
       "      <td>...</td>\n",
       "      <td>2</td>\n",
       "      <td>2</td>\n",
       "      <td>2</td>\n",
       "      <td>2</td>\n",
       "      <td>2</td>\n",
       "      <td>2</td>\n",
       "      <td>2</td>\n",
       "      <td>2</td>\n",
       "      <td>7</td>\n",
       "      <td>97</td>\n",
       "    </tr>\n",
       "    <tr>\n",
       "      <th>1048573</th>\n",
       "      <td>2</td>\n",
       "      <td>13</td>\n",
       "      <td>2</td>\n",
       "      <td>1</td>\n",
       "      <td>9999-99-99</td>\n",
       "      <td>97</td>\n",
       "      <td>2</td>\n",
       "      <td>28</td>\n",
       "      <td>97</td>\n",
       "      <td>2</td>\n",
       "      <td>...</td>\n",
       "      <td>2</td>\n",
       "      <td>2</td>\n",
       "      <td>2</td>\n",
       "      <td>2</td>\n",
       "      <td>2</td>\n",
       "      <td>2</td>\n",
       "      <td>2</td>\n",
       "      <td>2</td>\n",
       "      <td>7</td>\n",
       "      <td>97</td>\n",
       "    </tr>\n",
       "    <tr>\n",
       "      <th>1048574</th>\n",
       "      <td>2</td>\n",
       "      <td>13</td>\n",
       "      <td>2</td>\n",
       "      <td>1</td>\n",
       "      <td>9999-99-99</td>\n",
       "      <td>97</td>\n",
       "      <td>2</td>\n",
       "      <td>52</td>\n",
       "      <td>97</td>\n",
       "      <td>2</td>\n",
       "      <td>...</td>\n",
       "      <td>2</td>\n",
       "      <td>2</td>\n",
       "      <td>2</td>\n",
       "      <td>2</td>\n",
       "      <td>2</td>\n",
       "      <td>2</td>\n",
       "      <td>2</td>\n",
       "      <td>2</td>\n",
       "      <td>7</td>\n",
       "      <td>97</td>\n",
       "    </tr>\n",
       "  </tbody>\n",
       "</table>\n",
       "<p>1048575 rows × 21 columns</p>\n",
       "</div>"
      ],
      "text/plain": [
       "         USMER  MEDICAL_UNIT  SEX  PATIENT_TYPE   DATE_DIED  INTUBED  \\\n",
       "0            2             1    1             1  03/05/2020       97   \n",
       "1            2             1    2             1  03/06/2020       97   \n",
       "2            2             1    2             2  09/06/2020        1   \n",
       "3            2             1    1             1  12/06/2020       97   \n",
       "4            2             1    2             1  21/06/2020       97   \n",
       "...        ...           ...  ...           ...         ...      ...   \n",
       "1048570      2            13    2             1  9999-99-99       97   \n",
       "1048571      1            13    2             2  9999-99-99        2   \n",
       "1048572      2            13    2             1  9999-99-99       97   \n",
       "1048573      2            13    2             1  9999-99-99       97   \n",
       "1048574      2            13    2             1  9999-99-99       97   \n",
       "\n",
       "         PNEUMONIA  AGE  PREGNANT  DIABETES  ...  ASTHMA  INMSUPR  \\\n",
       "0                1   65         2         2  ...       2        2   \n",
       "1                1   72        97         2  ...       2        2   \n",
       "2                2   55        97         1  ...       2        2   \n",
       "3                2   53         2         2  ...       2        2   \n",
       "4                2   68        97         1  ...       2        2   \n",
       "...            ...  ...       ...       ...  ...     ...      ...   \n",
       "1048570          2   40        97         2  ...       2        2   \n",
       "1048571          2   51        97         2  ...       2        2   \n",
       "1048572          2   55        97         2  ...       2        2   \n",
       "1048573          2   28        97         2  ...       2        2   \n",
       "1048574          2   52        97         2  ...       2        2   \n",
       "\n",
       "         HIPERTENSION  OTHER_DISEASE  CARDIOVASCULAR  OBESITY  RENAL_CHRONIC  \\\n",
       "0                   1              2               2        2              2   \n",
       "1                   1              2               2        1              1   \n",
       "2                   2              2               2        2              2   \n",
       "3                   2              2               2        2              2   \n",
       "4                   1              2               2        2              2   \n",
       "...               ...            ...             ...      ...            ...   \n",
       "1048570             2              2               2        2              2   \n",
       "1048571             1              2               2        2              2   \n",
       "1048572             2              2               2        2              2   \n",
       "1048573             2              2               2        2              2   \n",
       "1048574             2              2               2        2              2   \n",
       "\n",
       "         TOBACCO  CLASIFFICATION_FINAL  ICU  \n",
       "0              2                     3   97  \n",
       "1              2                     5   97  \n",
       "2              2                     3    2  \n",
       "3              2                     7   97  \n",
       "4              2                     3   97  \n",
       "...          ...                   ...  ...  \n",
       "1048570        2                     7   97  \n",
       "1048571        2                     7    2  \n",
       "1048572        2                     7   97  \n",
       "1048573        2                     7   97  \n",
       "1048574        2                     7   97  \n",
       "\n",
       "[1048575 rows x 21 columns]"
      ]
     },
     "execution_count": 3,
     "metadata": {},
     "output_type": "execute_result"
    }
   ],
   "source": [
    "df"
   ]
  },
  {
   "cell_type": "markdown",
   "id": "6d958bb2",
   "metadata": {},
   "source": [
    "### Data Dictionary (ABT DATA)\n",
    "\n",
    "1. sex: 1 for female and 2 for male.\n",
    "\n",
    "\n",
    "\n",
    "\n",
    "2. age: of the patient.\n",
    "\n",
    "\n",
    "\n",
    "\n",
    "3. patient type: type of care the patient received in the unit. 1 for returned home and 2 for hospitalization.\n",
    "\n",
    "\n",
    "\n",
    "4. pneumonia: whether the patient already have air sacs inflammation or not.\n",
    "\n",
    "\n",
    "\n",
    "5. pregnancy: whether the patient is pregnant or not.\n",
    "\n",
    "\n",
    "\n",
    "6. diabetes: whether the patient has diabetes or not.\n",
    "\n",
    "\n",
    "\n",
    "7. copd: Indicates whether the patient has Chronic obstructive pulmonary disease or not.\n",
    "\n",
    "\n",
    "\n",
    "8. asthma: whether the patient has asthma or not.\n",
    "\n",
    "\n",
    "\n",
    "\n",
    "9. inmsupr: whether the patient is immunosuppressed or not.\n",
    "\n",
    "\n",
    "\n",
    "\n",
    "10. hypertension: whether the patient has hypertension or not.\n",
    "\n",
    "\n",
    "\n",
    "11. cardiovascular: whether the patient has heart or blood vessels related disease.\n",
    "\n",
    "\n",
    "\n",
    "\n",
    "12. renal chronic: whether the patient has chronic renal disease or not.\n",
    "\n",
    "\n",
    "\n",
    "13. other disease: whether the patient has other disease or not.\n",
    "\n",
    "\n",
    "\n",
    "14. obesity: whether the patient is obese or not.\n",
    "\n",
    "\n",
    "\n",
    "15. tobacco: whether the patient is a tobacco user.\n",
    "\n",
    "\n",
    "\n",
    "16. usmr: Indicates whether the patient treated medical units of the first, second or third level.\n",
    "\n",
    "\n",
    "\n",
    "17. medical unit: type of institution of the National Health System that provided the care.\n",
    "\n",
    "\n",
    "\n",
    "18. intubed: whether the patient was connected to the ventilator.\n",
    "\n",
    "\n",
    "\n",
    "19. icu: Indicates whether the patient had been admitted to an Intensive Care Unit.\n",
    "\n",
    "\n",
    "\n",
    "20. date died: If the patient died indicate the date of death, and 9999-99-99 otherwise.\n",
    "\n",
    "\n",
    "\n",
    "21. classification: covid test findings. Values 1-3 mean that the patient was diagnosed with covid in different degrees. 4 or higher means that the patient is not a carrier of covid or that the test is inconclusive."
   ]
  },
  {
   "cell_type": "markdown",
   "id": "d3be1e67",
   "metadata": {},
   "source": [
    "### Columns"
   ]
  },
  {
   "cell_type": "code",
   "execution_count": 4,
   "id": "2bc7ebf0",
   "metadata": {},
   "outputs": [
    {
     "data": {
      "text/plain": [
       "Index(['USMER', 'MEDICAL_UNIT', 'SEX', 'PATIENT_TYPE', 'DATE_DIED', 'INTUBED',\n",
       "       'PNEUMONIA', 'AGE', 'PREGNANT', 'DIABETES', 'COPD', 'ASTHMA', 'INMSUPR',\n",
       "       'HIPERTENSION', 'OTHER_DISEASE', 'CARDIOVASCULAR', 'OBESITY',\n",
       "       'RENAL_CHRONIC', 'TOBACCO', 'CLASIFFICATION_FINAL', 'ICU'],\n",
       "      dtype='object')"
      ]
     },
     "execution_count": 4,
     "metadata": {},
     "output_type": "execute_result"
    }
   ],
   "source": [
    "df.columns"
   ]
  },
  {
   "cell_type": "markdown",
   "id": "50770e55",
   "metadata": {},
   "source": [
    "The main goal of this project is to build a machine learning model that, given a Covid-19 patient's current symptom, status, and medical history, will predict whether the patient is in high risk or not.\n",
    "\n",
    "Traget Column is If the patient died indicate the date of death, and 9999-99-99 otherwise."
   ]
  },
  {
   "cell_type": "code",
   "execution_count": 5,
   "id": "46313f76",
   "metadata": {},
   "outputs": [
    {
     "name": "stdout",
     "output_type": "stream",
     "text": [
      "<class 'pandas.core.frame.DataFrame'>\n",
      "RangeIndex: 1048575 entries, 0 to 1048574\n",
      "Data columns (total 21 columns):\n",
      " #   Column                Non-Null Count    Dtype \n",
      "---  ------                --------------    ----- \n",
      " 0   USMER                 1048575 non-null  int64 \n",
      " 1   MEDICAL_UNIT          1048575 non-null  int64 \n",
      " 2   SEX                   1048575 non-null  int64 \n",
      " 3   PATIENT_TYPE          1048575 non-null  int64 \n",
      " 4   DATE_DIED             1048575 non-null  object\n",
      " 5   INTUBED               1048575 non-null  int64 \n",
      " 6   PNEUMONIA             1048575 non-null  int64 \n",
      " 7   AGE                   1048575 non-null  int64 \n",
      " 8   PREGNANT              1048575 non-null  int64 \n",
      " 9   DIABETES              1048575 non-null  int64 \n",
      " 10  COPD                  1048575 non-null  int64 \n",
      " 11  ASTHMA                1048575 non-null  int64 \n",
      " 12  INMSUPR               1048575 non-null  int64 \n",
      " 13  HIPERTENSION          1048575 non-null  int64 \n",
      " 14  OTHER_DISEASE         1048575 non-null  int64 \n",
      " 15  CARDIOVASCULAR        1048575 non-null  int64 \n",
      " 16  OBESITY               1048575 non-null  int64 \n",
      " 17  RENAL_CHRONIC         1048575 non-null  int64 \n",
      " 18  TOBACCO               1048575 non-null  int64 \n",
      " 19  CLASIFFICATION_FINAL  1048575 non-null  int64 \n",
      " 20  ICU                   1048575 non-null  int64 \n",
      "dtypes: int64(20), object(1)\n",
      "memory usage: 168.0+ MB\n"
     ]
    }
   ],
   "source": [
    "df.info()"
   ]
  },
  {
   "cell_type": "markdown",
   "id": "e1c5a571",
   "metadata": {},
   "source": [
    "### Create a Target Column"
   ]
  },
  {
   "cell_type": "code",
   "execution_count": 6,
   "id": "8a43d420",
   "metadata": {},
   "outputs": [],
   "source": [
    "def target(x):\n",
    "    if x == '9999-99-99':\n",
    "        return 0\n",
    "    else:\n",
    "        return 1"
   ]
  },
  {
   "cell_type": "code",
   "execution_count": 7,
   "id": "5b47c925",
   "metadata": {},
   "outputs": [],
   "source": [
    "df['Target'] = df.DATE_DIED.map(target)"
   ]
  },
  {
   "cell_type": "code",
   "execution_count": 8,
   "id": "eaabc787",
   "metadata": {},
   "outputs": [
    {
     "data": {
      "text/plain": [
       "0    971633\n",
       "1     76942\n",
       "Name: Target, dtype: int64"
      ]
     },
     "execution_count": 8,
     "metadata": {},
     "output_type": "execute_result"
    }
   ],
   "source": [
    "df['Target'].value_counts()"
   ]
  },
  {
   "cell_type": "code",
   "execution_count": 9,
   "id": "19818a8e",
   "metadata": {},
   "outputs": [],
   "source": [
    "df.drop('DATE_DIED',inplace=True,axis=1)"
   ]
  },
  {
   "cell_type": "markdown",
   "id": "bb09ad70",
   "metadata": {},
   "source": [
    "unbalanced dataset so we will do oversampling in future"
   ]
  },
  {
   "cell_type": "markdown",
   "id": "7fc76803",
   "metadata": {},
   "source": [
    "### Correlation matrix"
   ]
  },
  {
   "cell_type": "code",
   "execution_count": 10,
   "id": "99132323",
   "metadata": {},
   "outputs": [
    {
     "data": {
      "text/plain": [
       "<AxesSubplot:>"
      ]
     },
     "execution_count": 10,
     "metadata": {},
     "output_type": "execute_result"
    },
    {
     "data": {
      "image/png": "[encoded data removed]",
      "text/plain": [
       "<Figure size 3000x1500 with 2 Axes>"
      ]
     },
     "metadata": {},
     "output_type": "display_data"
    }
   ],
   "source": [
    "corr_matrix = df.corr()\n",
    "\n",
    "plt.figure(figsize=(30,15))\n",
    "\n",
    "sns.heatmap(corr_matrix,\n",
    "            fmt='.2f',\n",
    "            annot=True,\n",
    "           linewidth=5,\n",
    "           cmap = \"cubehelix\")"
   ]
  },
  {
   "cell_type": "code",
   "execution_count": 11,
   "id": "c8639d07",
   "metadata": {},
   "outputs": [],
   "source": [
    "cols_to_drop = ['PNEUMONIA', 'DIABETES', 'COPD', 'ASTHMA', 'INMSUPR',\n",
    "       'HIPERTENSION', 'OTHER_DISEASE', 'CARDIOVASCULAR', 'OBESITY',\n",
    "       'RENAL_CHRONIC', 'TOBACCO']\n",
    "\n",
    "\n",
    "df.drop(cols_to_drop,axis=1,inplace=True)"
   ]
  },
  {
   "cell_type": "markdown",
   "id": "66075453",
   "metadata": {},
   "source": [
    "before going into Any transformations first split our dataset into train,test to prevent from data\n",
    "leakage"
   ]
  },
  {
   "cell_type": "code",
   "execution_count": 13,
   "id": "6fe62d17",
   "metadata": {},
   "outputs": [],
   "source": [
    "# now we do oversampling \n",
    "count_0,count1 = df.Target.value_counts()\n",
    "\n",
    "over_0 = df[df['Target']==0]\n",
    "over_1 = df[df['Target']==1]\n",
    "\n",
    "over_sample_1 = over_1.sample(count_0,replace=True)\n",
    "\n",
    "df = pd.concat([over_0,over_sample_1],axis=0)"
   ]
  },
  {
   "cell_type": "code",
   "execution_count": 14,
   "id": "cfbab809",
   "metadata": {},
   "outputs": [
    {
     "data": {
      "text/plain": [
       "0    971633\n",
       "1    971633\n",
       "Name: Target, dtype: int64"
      ]
     },
     "execution_count": 14,
     "metadata": {},
     "output_type": "execute_result"
    }
   ],
   "source": [
    "df.Target.value_counts()"
   ]
  },
  {
   "cell_type": "markdown",
   "id": "d97ba2e3",
   "metadata": {},
   "source": [
    "**split the dataset into train and test**"
   ]
  },
  {
   "cell_type": "code",
   "execution_count": 16,
   "id": "32bba1d4",
   "metadata": {},
   "outputs": [],
   "source": [
    "train,test = train_test_split(df,test_size=0.2,stratify=df['Target'])"
   ]
  },
  {
   "cell_type": "code",
   "execution_count": 17,
   "id": "46381e7a",
   "metadata": {},
   "outputs": [
    {
     "data": {
      "text/plain": [
       "0    777306\n",
       "1    777306\n",
       "Name: Target, dtype: int64"
      ]
     },
     "execution_count": 17,
     "metadata": {},
     "output_type": "execute_result"
    }
   ],
   "source": [
    "train.Target.value_counts()"
   ]
  },
  {
   "cell_type": "code",
   "execution_count": 18,
   "id": "feeac1c7",
   "metadata": {},
   "outputs": [
    {
     "data": {
      "text/plain": [
       "1    194327\n",
       "0    194327\n",
       "Name: Target, dtype: int64"
      ]
     },
     "execution_count": 18,
     "metadata": {},
     "output_type": "execute_result"
    }
   ],
   "source": [
    "test.Target.value_counts()"
   ]
  },
  {
   "cell_type": "markdown",
   "id": "b04fac7a",
   "metadata": {},
   "source": [
    "**Some stats**"
   ]
  },
  {
   "cell_type": "code",
   "execution_count": 19,
   "id": "87918b72",
   "metadata": {},
   "outputs": [
    {
     "data": {
      "text/html": [
       "<div>\n",
       "<style scoped>\n",
       "    .dataframe tbody tr th:only-of-type {\n",
       "        vertical-align: middle;\n",
       "    }\n",
       "\n",
       "    .dataframe tbody tr th {\n",
       "        vertical-align: top;\n",
       "    }\n",
       "\n",
       "    .dataframe thead th {\n",
       "        text-align: right;\n",
       "    }\n",
       "</style>\n",
       "<table border=\"1\" class=\"dataframe\">\n",
       "  <thead>\n",
       "    <tr style=\"text-align: right;\">\n",
       "      <th></th>\n",
       "      <th>count</th>\n",
       "      <th>mean</th>\n",
       "      <th>std</th>\n",
       "      <th>min</th>\n",
       "      <th>25%</th>\n",
       "      <th>50%</th>\n",
       "      <th>75%</th>\n",
       "      <th>max</th>\n",
       "    </tr>\n",
       "  </thead>\n",
       "  <tbody>\n",
       "    <tr>\n",
       "      <th>USMER</th>\n",
       "      <td>1554612.0</td>\n",
       "      <td>1.543371</td>\n",
       "      <td>0.498116</td>\n",
       "      <td>1.0</td>\n",
       "      <td>1.0</td>\n",
       "      <td>2.0</td>\n",
       "      <td>2.0</td>\n",
       "      <td>2.0</td>\n",
       "    </tr>\n",
       "    <tr>\n",
       "      <th>MEDICAL_UNIT</th>\n",
       "      <td>1554612.0</td>\n",
       "      <td>8.075998</td>\n",
       "      <td>3.826323</td>\n",
       "      <td>1.0</td>\n",
       "      <td>4.0</td>\n",
       "      <td>9.0</td>\n",
       "      <td>12.0</td>\n",
       "      <td>13.0</td>\n",
       "    </tr>\n",
       "    <tr>\n",
       "      <th>SEX</th>\n",
       "      <td>1554612.0</td>\n",
       "      <td>1.565633</td>\n",
       "      <td>0.495674</td>\n",
       "      <td>1.0</td>\n",
       "      <td>1.0</td>\n",
       "      <td>2.0</td>\n",
       "      <td>2.0</td>\n",
       "      <td>2.0</td>\n",
       "    </tr>\n",
       "    <tr>\n",
       "      <th>PATIENT_TYPE</th>\n",
       "      <td>1554612.0</td>\n",
       "      <td>1.521930</td>\n",
       "      <td>0.499519</td>\n",
       "      <td>1.0</td>\n",
       "      <td>1.0</td>\n",
       "      <td>2.0</td>\n",
       "      <td>2.0</td>\n",
       "      <td>2.0</td>\n",
       "    </tr>\n",
       "    <tr>\n",
       "      <th>INTUBED</th>\n",
       "      <td>1554612.0</td>\n",
       "      <td>48.829817</td>\n",
       "      <td>47.704877</td>\n",
       "      <td>1.0</td>\n",
       "      <td>2.0</td>\n",
       "      <td>2.0</td>\n",
       "      <td>97.0</td>\n",
       "      <td>99.0</td>\n",
       "    </tr>\n",
       "    <tr>\n",
       "      <th>AGE</th>\n",
       "      <td>1554612.0</td>\n",
       "      <td>50.666183</td>\n",
       "      <td>18.845157</td>\n",
       "      <td>0.0</td>\n",
       "      <td>37.0</td>\n",
       "      <td>51.0</td>\n",
       "      <td>65.0</td>\n",
       "      <td>120.0</td>\n",
       "    </tr>\n",
       "    <tr>\n",
       "      <th>PREGNANT</th>\n",
       "      <td>1554612.0</td>\n",
       "      <td>55.957183</td>\n",
       "      <td>47.066288</td>\n",
       "      <td>1.0</td>\n",
       "      <td>2.0</td>\n",
       "      <td>97.0</td>\n",
       "      <td>97.0</td>\n",
       "      <td>98.0</td>\n",
       "    </tr>\n",
       "    <tr>\n",
       "      <th>CLASIFFICATION_FINAL</th>\n",
       "      <td>1554612.0</td>\n",
       "      <td>4.701731</td>\n",
       "      <td>1.915244</td>\n",
       "      <td>1.0</td>\n",
       "      <td>3.0</td>\n",
       "      <td>3.0</td>\n",
       "      <td>7.0</td>\n",
       "      <td>7.0</td>\n",
       "    </tr>\n",
       "    <tr>\n",
       "      <th>ICU</th>\n",
       "      <td>1554612.0</td>\n",
       "      <td>48.962412</td>\n",
       "      <td>47.588828</td>\n",
       "      <td>1.0</td>\n",
       "      <td>2.0</td>\n",
       "      <td>2.0</td>\n",
       "      <td>97.0</td>\n",
       "      <td>99.0</td>\n",
       "    </tr>\n",
       "    <tr>\n",
       "      <th>Target</th>\n",
       "      <td>1554612.0</td>\n",
       "      <td>0.500000</td>\n",
       "      <td>0.500000</td>\n",
       "      <td>0.0</td>\n",
       "      <td>0.0</td>\n",
       "      <td>0.5</td>\n",
       "      <td>1.0</td>\n",
       "      <td>1.0</td>\n",
       "    </tr>\n",
       "  </tbody>\n",
       "</table>\n",
       "</div>"
      ],
      "text/plain": [
       "                          count       mean        std  min   25%   50%   75%  \\\n",
       "USMER                 1554612.0   1.543371   0.498116  1.0   1.0   2.0   2.0   \n",
       "MEDICAL_UNIT          1554612.0   8.075998   3.826323  1.0   4.0   9.0  12.0   \n",
       "SEX                   1554612.0   1.565633   0.495674  1.0   1.0   2.0   2.0   \n",
       "PATIENT_TYPE          1554612.0   1.521930   0.499519  1.0   1.0   2.0   2.0   \n",
       "INTUBED               1554612.0  48.829817  47.704877  1.0   2.0   2.0  97.0   \n",
       "AGE                   1554612.0  50.666183  18.845157  0.0  37.0  51.0  65.0   \n",
       "PREGNANT              1554612.0  55.957183  47.066288  1.0   2.0  97.0  97.0   \n",
       "CLASIFFICATION_FINAL  1554612.0   4.701731   1.915244  1.0   3.0   3.0   7.0   \n",
       "ICU                   1554612.0  48.962412  47.588828  1.0   2.0   2.0  97.0   \n",
       "Target                1554612.0   0.500000   0.500000  0.0   0.0   0.5   1.0   \n",
       "\n",
       "                        max  \n",
       "USMER                   2.0  \n",
       "MEDICAL_UNIT           13.0  \n",
       "SEX                     2.0  \n",
       "PATIENT_TYPE            2.0  \n",
       "INTUBED                99.0  \n",
       "AGE                   120.0  \n",
       "PREGNANT               98.0  \n",
       "CLASIFFICATION_FINAL    7.0  \n",
       "ICU                    99.0  \n",
       "Target                  1.0  "
      ]
     },
     "execution_count": 19,
     "metadata": {},
     "output_type": "execute_result"
    }
   ],
   "source": [
    "train.describe().T"
   ]
  },
  {
   "cell_type": "code",
   "execution_count": 20,
   "id": "7b7a99f0",
   "metadata": {},
   "outputs": [
    {
     "data": {
      "image/png": "[encoded data removed]",
      "text/plain": [
       "<Figure size 640x480 with 1 Axes>"
      ]
     },
     "metadata": {},
     "output_type": "display_data"
    }
   ],
   "source": [
    "plt.hist(train.AGE,bins=30,color=['green'])\n",
    "plt.title(\"AGE DISTRIBUTION\")\n",
    "plt.xlabel('AGE');"
   ]
  },
  {
   "cell_type": "markdown",
   "id": "673752ef",
   "metadata": {},
   "source": [
    "here we can see the ages are distributed 0-120 its amazing but let we assume more than 100 age peoples are otliers"
   ]
  },
  {
   "cell_type": "markdown",
   "id": "c597ab35",
   "metadata": {},
   "source": [
    "**In the datasest they provide info values are 99,98,97 are missing values**"
   ]
  },
  {
   "cell_type": "code",
   "execution_count": 22,
   "id": "cdd29f1d",
   "metadata": {},
   "outputs": [],
   "source": [
    "train.replace({97: np.nan, 98: np.nan, 99: np.nan}, inplace=True)# Filling missing value with -1"
   ]
  },
  {
   "cell_type": "code",
   "execution_count": 23,
   "id": "2efd0bc9",
   "metadata": {},
   "outputs": [
    {
     "data": {
      "text/plain": [
       "USMER                        0\n",
       "MEDICAL_UNIT                 0\n",
       "SEX                          0\n",
       "PATIENT_TYPE                 0\n",
       "INTUBED                 768663\n",
       "AGE                       1299\n",
       "PREGNANT                883012\n",
       "CLASIFFICATION_FINAL         0\n",
       "ICU                     768910\n",
       "Target                       0\n",
       "dtype: int64"
      ]
     },
     "execution_count": 23,
     "metadata": {},
     "output_type": "execute_result"
    }
   ],
   "source": [
    "train.isnull().sum()"
   ]
  },
  {
   "cell_type": "code",
   "execution_count": 24,
   "id": "2c21842e",
   "metadata": {},
   "outputs": [],
   "source": [
    "train.fillna(-1,inplace=True)# Filled missing value with -1"
   ]
  },
  {
   "cell_type": "code",
   "execution_count": 25,
   "id": "56e9d388",
   "metadata": {},
   "outputs": [
    {
     "data": {
      "text/html": [
       "<div>\n",
       "<style scoped>\n",
       "    .dataframe tbody tr th:only-of-type {\n",
       "        vertical-align: middle;\n",
       "    }\n",
       "\n",
       "    .dataframe tbody tr th {\n",
       "        vertical-align: top;\n",
       "    }\n",
       "\n",
       "    .dataframe thead th {\n",
       "        text-align: right;\n",
       "    }\n",
       "</style>\n",
       "<table border=\"1\" class=\"dataframe\">\n",
       "  <thead>\n",
       "    <tr style=\"text-align: right;\">\n",
       "      <th></th>\n",
       "      <th>count</th>\n",
       "      <th>mean</th>\n",
       "      <th>std</th>\n",
       "      <th>min</th>\n",
       "      <th>25%</th>\n",
       "      <th>50%</th>\n",
       "      <th>75%</th>\n",
       "      <th>max</th>\n",
       "    </tr>\n",
       "  </thead>\n",
       "  <tbody>\n",
       "    <tr>\n",
       "      <th>USMER</th>\n",
       "      <td>1554612.0</td>\n",
       "      <td>1.543371</td>\n",
       "      <td>0.498116</td>\n",
       "      <td>1.0</td>\n",
       "      <td>1.0</td>\n",
       "      <td>2.0</td>\n",
       "      <td>2.0</td>\n",
       "      <td>2.0</td>\n",
       "    </tr>\n",
       "    <tr>\n",
       "      <th>MEDICAL_UNIT</th>\n",
       "      <td>1554612.0</td>\n",
       "      <td>8.075998</td>\n",
       "      <td>3.826323</td>\n",
       "      <td>1.0</td>\n",
       "      <td>4.0</td>\n",
       "      <td>9.0</td>\n",
       "      <td>12.0</td>\n",
       "      <td>13.0</td>\n",
       "    </tr>\n",
       "    <tr>\n",
       "      <th>SEX</th>\n",
       "      <td>1554612.0</td>\n",
       "      <td>1.565633</td>\n",
       "      <td>0.495674</td>\n",
       "      <td>1.0</td>\n",
       "      <td>1.0</td>\n",
       "      <td>2.0</td>\n",
       "      <td>2.0</td>\n",
       "      <td>2.0</td>\n",
       "    </tr>\n",
       "    <tr>\n",
       "      <th>PATIENT_TYPE</th>\n",
       "      <td>1554612.0</td>\n",
       "      <td>1.521930</td>\n",
       "      <td>0.499519</td>\n",
       "      <td>1.0</td>\n",
       "      <td>1.0</td>\n",
       "      <td>2.0</td>\n",
       "      <td>2.0</td>\n",
       "      <td>2.0</td>\n",
       "    </tr>\n",
       "    <tr>\n",
       "      <th>INTUBED</th>\n",
       "      <td>1554612.0</td>\n",
       "      <td>0.341917</td>\n",
       "      <td>1.369484</td>\n",
       "      <td>-1.0</td>\n",
       "      <td>-1.0</td>\n",
       "      <td>1.0</td>\n",
       "      <td>2.0</td>\n",
       "      <td>2.0</td>\n",
       "    </tr>\n",
       "    <tr>\n",
       "      <th>AGE</th>\n",
       "      <td>1554612.0</td>\n",
       "      <td>50.583671</td>\n",
       "      <td>18.854996</td>\n",
       "      <td>-1.0</td>\n",
       "      <td>37.0</td>\n",
       "      <td>51.0</td>\n",
       "      <td>65.0</td>\n",
       "      <td>120.0</td>\n",
       "    </tr>\n",
       "    <tr>\n",
       "      <th>PREGNANT</th>\n",
       "      <td>1554612.0</td>\n",
       "      <td>0.291301</td>\n",
       "      <td>1.482234</td>\n",
       "      <td>-1.0</td>\n",
       "      <td>-1.0</td>\n",
       "      <td>-1.0</td>\n",
       "      <td>2.0</td>\n",
       "      <td>2.0</td>\n",
       "    </tr>\n",
       "    <tr>\n",
       "      <th>CLASIFFICATION_FINAL</th>\n",
       "      <td>1554612.0</td>\n",
       "      <td>4.701731</td>\n",
       "      <td>1.915244</td>\n",
       "      <td>1.0</td>\n",
       "      <td>3.0</td>\n",
       "      <td>3.0</td>\n",
       "      <td>7.0</td>\n",
       "      <td>7.0</td>\n",
       "    </tr>\n",
       "    <tr>\n",
       "      <th>ICU</th>\n",
       "      <td>1554612.0</td>\n",
       "      <td>0.458624</td>\n",
       "      <td>1.460525</td>\n",
       "      <td>-1.0</td>\n",
       "      <td>-1.0</td>\n",
       "      <td>1.0</td>\n",
       "      <td>2.0</td>\n",
       "      <td>2.0</td>\n",
       "    </tr>\n",
       "    <tr>\n",
       "      <th>Target</th>\n",
       "      <td>1554612.0</td>\n",
       "      <td>0.500000</td>\n",
       "      <td>0.500000</td>\n",
       "      <td>0.0</td>\n",
       "      <td>0.0</td>\n",
       "      <td>0.5</td>\n",
       "      <td>1.0</td>\n",
       "      <td>1.0</td>\n",
       "    </tr>\n",
       "  </tbody>\n",
       "</table>\n",
       "</div>"
      ],
      "text/plain": [
       "                          count       mean        std  min   25%   50%   75%  \\\n",
       "USMER                 1554612.0   1.543371   0.498116  1.0   1.0   2.0   2.0   \n",
       "MEDICAL_UNIT          1554612.0   8.075998   3.826323  1.0   4.0   9.0  12.0   \n",
       "SEX                   1554612.0   1.565633   0.495674  1.0   1.0   2.0   2.0   \n",
       "PATIENT_TYPE          1554612.0   1.521930   0.499519  1.0   1.0   2.0   2.0   \n",
       "INTUBED               1554612.0   0.341917   1.369484 -1.0  -1.0   1.0   2.0   \n",
       "AGE                   1554612.0  50.583671  18.854996 -1.0  37.0  51.0  65.0   \n",
       "PREGNANT              1554612.0   0.291301   1.482234 -1.0  -1.0  -1.0   2.0   \n",
       "CLASIFFICATION_FINAL  1554612.0   4.701731   1.915244  1.0   3.0   3.0   7.0   \n",
       "ICU                   1554612.0   0.458624   1.460525 -1.0  -1.0   1.0   2.0   \n",
       "Target                1554612.0   0.500000   0.500000  0.0   0.0   0.5   1.0   \n",
       "\n",
       "                        max  \n",
       "USMER                   2.0  \n",
       "MEDICAL_UNIT           13.0  \n",
       "SEX                     2.0  \n",
       "PATIENT_TYPE            2.0  \n",
       "INTUBED                 2.0  \n",
       "AGE                   120.0  \n",
       "PREGNANT                2.0  \n",
       "CLASIFFICATION_FINAL    7.0  \n",
       "ICU                     2.0  \n",
       "Target                  1.0  "
      ]
     },
     "execution_count": 25,
     "metadata": {},
     "output_type": "execute_result"
    }
   ],
   "source": [
    "train.describe().T"
   ]
  },
  {
   "cell_type": "markdown",
   "id": "00a24ec4",
   "metadata": {},
   "source": [
    "now the summary of the dataset value are less spreaded Not more deviated from mean"
   ]
  },
  {
   "cell_type": "code",
   "execution_count": 26,
   "id": "9d56d43e",
   "metadata": {},
   "outputs": [],
   "source": [
    "#removing outliers\n",
    "train = train[train['AGE']<=100]"
   ]
  },
  {
   "cell_type": "code",
   "execution_count": 27,
   "id": "9d117b7e",
   "metadata": {},
   "outputs": [
    {
     "data": {
      "text/plain": [
       "100.0"
      ]
     },
     "execution_count": 27,
     "metadata": {},
     "output_type": "execute_result"
    }
   ],
   "source": [
    "max(train.AGE)# we remove the outlier"
   ]
  },
  {
   "cell_type": "markdown",
   "id": "94f50f86",
   "metadata": {},
   "source": [
    "### Prepare the training set and also val and test"
   ]
  },
  {
   "cell_type": "code",
   "execution_count": 28,
   "id": "6244d4f4",
   "metadata": {},
   "outputs": [
    {
     "data": {
      "text/plain": [
       "0    777205\n",
       "1    777171\n",
       "Name: Target, dtype: int64"
      ]
     },
     "execution_count": 28,
     "metadata": {},
     "output_type": "execute_result"
    }
   ],
   "source": [
    "train.Target.value_counts()"
   ]
  },
  {
   "cell_type": "code",
   "execution_count": 29,
   "id": "e8ffddfc",
   "metadata": {},
   "outputs": [],
   "source": [
    "x_train = train.drop('Target',axis=1)\n",
    "\n",
    "y_train = train['Target']"
   ]
  },
  {
   "cell_type": "code",
   "execution_count": 30,
   "id": "723e6eb7",
   "metadata": {},
   "outputs": [],
   "source": [
    "scaler = MinMaxScaler()# scaling the values from 0-1\n",
    "\n",
    "x_train = scaler.fit_transform(x_train)\n",
    "\n",
    "x_train = pd.DataFrame(x_train)"
   ]
  },
  {
   "cell_type": "markdown",
   "id": "0e26a902",
   "metadata": {},
   "source": [
    "let preprocess `test set` so that we can val and test our model(whatever we did in `training` samples that exactly we wanna do in `test` an `val` samples)\n",
    "\n",
    "1. First we remove the outlier in ages column\n",
    "\n",
    "\n",
    "2. we filled the missing values with -1\n",
    "\n",
    "\n",
    "3. sacling using MinmaxScaler"
   ]
  },
  {
   "cell_type": "markdown",
   "id": "148280d0",
   "metadata": {},
   "source": [
    "#### Now test set"
   ]
  },
  {
   "cell_type": "code",
   "execution_count": 31,
   "id": "6cdad17f",
   "metadata": {},
   "outputs": [
    {
     "data": {
      "text/html": [
       "<div>\n",
       "<style scoped>\n",
       "    .dataframe tbody tr th:only-of-type {\n",
       "        vertical-align: middle;\n",
       "    }\n",
       "\n",
       "    .dataframe tbody tr th {\n",
       "        vertical-align: top;\n",
       "    }\n",
       "\n",
       "    .dataframe thead th {\n",
       "        text-align: right;\n",
       "    }\n",
       "</style>\n",
       "<table border=\"1\" class=\"dataframe\">\n",
       "  <thead>\n",
       "    <tr style=\"text-align: right;\">\n",
       "      <th></th>\n",
       "      <th>USMER</th>\n",
       "      <th>MEDICAL_UNIT</th>\n",
       "      <th>SEX</th>\n",
       "      <th>PATIENT_TYPE</th>\n",
       "      <th>INTUBED</th>\n",
       "      <th>AGE</th>\n",
       "      <th>PREGNANT</th>\n",
       "      <th>CLASIFFICATION_FINAL</th>\n",
       "      <th>ICU</th>\n",
       "      <th>Target</th>\n",
       "    </tr>\n",
       "  </thead>\n",
       "  <tbody>\n",
       "    <tr>\n",
       "      <th>445008</th>\n",
       "      <td>1</td>\n",
       "      <td>12</td>\n",
       "      <td>2</td>\n",
       "      <td>2</td>\n",
       "      <td>99</td>\n",
       "      <td>57</td>\n",
       "      <td>97</td>\n",
       "      <td>7</td>\n",
       "      <td>99</td>\n",
       "      <td>1</td>\n",
       "    </tr>\n",
       "    <tr>\n",
       "      <th>610721</th>\n",
       "      <td>1</td>\n",
       "      <td>12</td>\n",
       "      <td>1</td>\n",
       "      <td>1</td>\n",
       "      <td>97</td>\n",
       "      <td>39</td>\n",
       "      <td>2</td>\n",
       "      <td>3</td>\n",
       "      <td>97</td>\n",
       "      <td>0</td>\n",
       "    </tr>\n",
       "    <tr>\n",
       "      <th>444228</th>\n",
       "      <td>2</td>\n",
       "      <td>11</td>\n",
       "      <td>1</td>\n",
       "      <td>2</td>\n",
       "      <td>2</td>\n",
       "      <td>39</td>\n",
       "      <td>2</td>\n",
       "      <td>7</td>\n",
       "      <td>2</td>\n",
       "      <td>0</td>\n",
       "    </tr>\n",
       "    <tr>\n",
       "      <th>47994</th>\n",
       "      <td>1</td>\n",
       "      <td>4</td>\n",
       "      <td>2</td>\n",
       "      <td>2</td>\n",
       "      <td>1</td>\n",
       "      <td>61</td>\n",
       "      <td>97</td>\n",
       "      <td>3</td>\n",
       "      <td>2</td>\n",
       "      <td>1</td>\n",
       "    </tr>\n",
       "    <tr>\n",
       "      <th>453780</th>\n",
       "      <td>1</td>\n",
       "      <td>12</td>\n",
       "      <td>2</td>\n",
       "      <td>2</td>\n",
       "      <td>1</td>\n",
       "      <td>45</td>\n",
       "      <td>97</td>\n",
       "      <td>7</td>\n",
       "      <td>1</td>\n",
       "      <td>1</td>\n",
       "    </tr>\n",
       "  </tbody>\n",
       "</table>\n",
       "</div>"
      ],
      "text/plain": [
       "        USMER  MEDICAL_UNIT  SEX  PATIENT_TYPE  INTUBED  AGE  PREGNANT  \\\n",
       "445008      1            12    2             2       99   57        97   \n",
       "610721      1            12    1             1       97   39         2   \n",
       "444228      2            11    1             2        2   39         2   \n",
       "47994       1             4    2             2        1   61        97   \n",
       "453780      1            12    2             2        1   45        97   \n",
       "\n",
       "        CLASIFFICATION_FINAL  ICU  Target  \n",
       "445008                     7   99       1  \n",
       "610721                     3   97       0  \n",
       "444228                     7    2       0  \n",
       "47994                      3    2       1  \n",
       "453780                     7    1       1  "
      ]
     },
     "execution_count": 31,
     "metadata": {},
     "output_type": "execute_result"
    }
   ],
   "source": [
    "test.head()"
   ]
  },
  {
   "cell_type": "markdown",
   "id": "0e5f3d6f",
   "metadata": {},
   "source": [
    "first we split the data into val and test"
   ]
  },
  {
   "cell_type": "markdown",
   "id": "5d30857a",
   "metadata": {},
   "source": [
    "#### removed outliers"
   ]
  },
  {
   "cell_type": "code",
   "execution_count": 32,
   "id": "fdc04017",
   "metadata": {},
   "outputs": [],
   "source": [
    "test = test[test['AGE']<=100]"
   ]
  },
  {
   "cell_type": "markdown",
   "id": "deaf109f",
   "metadata": {},
   "source": [
    "#### Filled missing values"
   ]
  },
  {
   "cell_type": "code",
   "execution_count": 33,
   "id": "5143dd2a",
   "metadata": {},
   "outputs": [],
   "source": [
    "test.replace({97:np.nan,98:np.nan,99:np.nan},inplace=True)\n",
    "\n",
    "test.fillna(-1,inplace=True)"
   ]
  },
  {
   "cell_type": "markdown",
   "id": "ec0f3dd7",
   "metadata": {},
   "source": [
    "##### Splitted into `test` and `val`"
   ]
  },
  {
   "cell_type": "code",
   "execution_count": 34,
   "id": "ac501dd8",
   "metadata": {},
   "outputs": [],
   "source": [
    "test,val = train_test_split(test,test_size=0.3,random_state=42,stratify=test['Target'])"
   ]
  },
  {
   "cell_type": "code",
   "execution_count": 35,
   "id": "b57282a8",
   "metadata": {},
   "outputs": [
    {
     "data": {
      "text/plain": [
       "0    58291\n",
       "1    58290\n",
       "Name: Target, dtype: int64"
      ]
     },
     "execution_count": 35,
     "metadata": {},
     "output_type": "execute_result"
    }
   ],
   "source": [
    "val.Target.value_counts()"
   ]
  },
  {
   "cell_type": "code",
   "execution_count": 36,
   "id": "f9f19c8b",
   "metadata": {},
   "outputs": [
    {
     "data": {
      "text/plain": [
       "0    136013\n",
       "1    136009\n",
       "Name: Target, dtype: int64"
      ]
     },
     "execution_count": 36,
     "metadata": {},
     "output_type": "execute_result"
    }
   ],
   "source": [
    "test.Target.value_counts()"
   ]
  },
  {
   "cell_type": "code",
   "execution_count": 37,
   "id": "0f596179",
   "metadata": {},
   "outputs": [],
   "source": [
    "x_test = test.drop('Target',axis=1)\n",
    "y_test = test['Target']\n",
    "\n",
    "x_val = val.drop('Target',axis=1)\n",
    "y_val = val['Target']"
   ]
  },
  {
   "cell_type": "markdown",
   "id": "b1f2cb59",
   "metadata": {},
   "source": [
    "##### Feature Scaling"
   ]
  },
  {
   "cell_type": "code",
   "execution_count": 38,
   "id": "a8ac11a5",
   "metadata": {},
   "outputs": [],
   "source": [
    "x_test = scaler.transform(x_test)\n",
    "x_val = scaler.transform(x_val)"
   ]
  },
  {
   "cell_type": "code",
   "execution_count": 39,
   "id": "9b9e6ac2",
   "metadata": {},
   "outputs": [],
   "source": [
    "x_test = pd.DataFrame(x_test)\n",
    "x_val = pd.DataFrame(x_val)"
   ]
  },
  {
   "cell_type": "code",
   "execution_count": 40,
   "id": "86141612",
   "metadata": {},
   "outputs": [
    {
     "data": {
      "text/plain": [
       "(1554376, 1554376, 116581, 116581, 272022, 272022)"
      ]
     },
     "execution_count": 40,
     "metadata": {},
     "output_type": "execute_result"
    }
   ],
   "source": [
    "len(x_train),len(y_train),len(x_val),len(y_val),len(x_test),len(y_test)"
   ]
  },
  {
   "cell_type": "code",
   "execution_count": 89,
   "id": "d7541e83",
   "metadata": {},
   "outputs": [
    {
     "data": {
      "text/html": [
       "<div>\n",
       "<style scoped>\n",
       "    .dataframe tbody tr th:only-of-type {\n",
       "        vertical-align: middle;\n",
       "    }\n",
       "\n",
       "    .dataframe tbody tr th {\n",
       "        vertical-align: top;\n",
       "    }\n",
       "\n",
       "    .dataframe thead th {\n",
       "        text-align: right;\n",
       "    }\n",
       "</style>\n",
       "<table border=\"1\" class=\"dataframe\">\n",
       "  <thead>\n",
       "    <tr style=\"text-align: right;\">\n",
       "      <th></th>\n",
       "      <th>0</th>\n",
       "      <th>1</th>\n",
       "      <th>2</th>\n",
       "      <th>3</th>\n",
       "      <th>4</th>\n",
       "      <th>5</th>\n",
       "      <th>6</th>\n",
       "      <th>7</th>\n",
       "      <th>8</th>\n",
       "    </tr>\n",
       "  </thead>\n",
       "  <tbody>\n",
       "    <tr>\n",
       "      <th>0</th>\n",
       "      <td>0.0</td>\n",
       "      <td>0.250000</td>\n",
       "      <td>1.0</td>\n",
       "      <td>1.0</td>\n",
       "      <td>0.666667</td>\n",
       "      <td>0.702970</td>\n",
       "      <td>0.0</td>\n",
       "      <td>0.333333</td>\n",
       "      <td>1.0</td>\n",
       "    </tr>\n",
       "    <tr>\n",
       "      <th>1</th>\n",
       "      <td>1.0</td>\n",
       "      <td>0.916667</td>\n",
       "      <td>1.0</td>\n",
       "      <td>1.0</td>\n",
       "      <td>0.666667</td>\n",
       "      <td>0.603960</td>\n",
       "      <td>0.0</td>\n",
       "      <td>1.000000</td>\n",
       "      <td>1.0</td>\n",
       "    </tr>\n",
       "    <tr>\n",
       "      <th>2</th>\n",
       "      <td>1.0</td>\n",
       "      <td>0.916667</td>\n",
       "      <td>1.0</td>\n",
       "      <td>1.0</td>\n",
       "      <td>1.000000</td>\n",
       "      <td>0.613861</td>\n",
       "      <td>0.0</td>\n",
       "      <td>1.000000</td>\n",
       "      <td>1.0</td>\n",
       "    </tr>\n",
       "    <tr>\n",
       "      <th>3</th>\n",
       "      <td>1.0</td>\n",
       "      <td>0.250000</td>\n",
       "      <td>1.0</td>\n",
       "      <td>1.0</td>\n",
       "      <td>0.666667</td>\n",
       "      <td>0.831683</td>\n",
       "      <td>0.0</td>\n",
       "      <td>0.333333</td>\n",
       "      <td>1.0</td>\n",
       "    </tr>\n",
       "    <tr>\n",
       "      <th>4</th>\n",
       "      <td>0.0</td>\n",
       "      <td>0.250000</td>\n",
       "      <td>1.0</td>\n",
       "      <td>1.0</td>\n",
       "      <td>0.666667</td>\n",
       "      <td>0.544554</td>\n",
       "      <td>0.0</td>\n",
       "      <td>1.000000</td>\n",
       "      <td>1.0</td>\n",
       "    </tr>\n",
       "    <tr>\n",
       "      <th>...</th>\n",
       "      <td>...</td>\n",
       "      <td>...</td>\n",
       "      <td>...</td>\n",
       "      <td>...</td>\n",
       "      <td>...</td>\n",
       "      <td>...</td>\n",
       "      <td>...</td>\n",
       "      <td>...</td>\n",
       "      <td>...</td>\n",
       "    </tr>\n",
       "    <tr>\n",
       "      <th>116576</th>\n",
       "      <td>0.0</td>\n",
       "      <td>0.250000</td>\n",
       "      <td>1.0</td>\n",
       "      <td>1.0</td>\n",
       "      <td>0.666667</td>\n",
       "      <td>0.465347</td>\n",
       "      <td>0.0</td>\n",
       "      <td>0.333333</td>\n",
       "      <td>1.0</td>\n",
       "    </tr>\n",
       "    <tr>\n",
       "      <th>116577</th>\n",
       "      <td>1.0</td>\n",
       "      <td>0.916667</td>\n",
       "      <td>0.0</td>\n",
       "      <td>0.0</td>\n",
       "      <td>0.000000</td>\n",
       "      <td>0.326733</td>\n",
       "      <td>1.0</td>\n",
       "      <td>1.000000</td>\n",
       "      <td>0.0</td>\n",
       "    </tr>\n",
       "    <tr>\n",
       "      <th>116578</th>\n",
       "      <td>0.0</td>\n",
       "      <td>0.916667</td>\n",
       "      <td>1.0</td>\n",
       "      <td>0.0</td>\n",
       "      <td>0.000000</td>\n",
       "      <td>0.524752</td>\n",
       "      <td>0.0</td>\n",
       "      <td>1.000000</td>\n",
       "      <td>0.0</td>\n",
       "    </tr>\n",
       "    <tr>\n",
       "      <th>116579</th>\n",
       "      <td>0.0</td>\n",
       "      <td>0.916667</td>\n",
       "      <td>1.0</td>\n",
       "      <td>1.0</td>\n",
       "      <td>1.000000</td>\n",
       "      <td>0.871287</td>\n",
       "      <td>0.0</td>\n",
       "      <td>0.333333</td>\n",
       "      <td>1.0</td>\n",
       "    </tr>\n",
       "    <tr>\n",
       "      <th>116580</th>\n",
       "      <td>1.0</td>\n",
       "      <td>0.916667</td>\n",
       "      <td>0.0</td>\n",
       "      <td>1.0</td>\n",
       "      <td>1.000000</td>\n",
       "      <td>0.712871</td>\n",
       "      <td>1.0</td>\n",
       "      <td>0.333333</td>\n",
       "      <td>1.0</td>\n",
       "    </tr>\n",
       "  </tbody>\n",
       "</table>\n",
       "<p>116581 rows × 9 columns</p>\n",
       "</div>"
      ],
      "text/plain": [
       "          0         1    2    3         4         5    6         7    8\n",
       "0       0.0  0.250000  1.0  1.0  0.666667  0.702970  0.0  0.333333  1.0\n",
       "1       1.0  0.916667  1.0  1.0  0.666667  0.603960  0.0  1.000000  1.0\n",
       "2       1.0  0.916667  1.0  1.0  1.000000  0.613861  0.0  1.000000  1.0\n",
       "3       1.0  0.250000  1.0  1.0  0.666667  0.831683  0.0  0.333333  1.0\n",
       "4       0.0  0.250000  1.0  1.0  0.666667  0.544554  0.0  1.000000  1.0\n",
       "...     ...       ...  ...  ...       ...       ...  ...       ...  ...\n",
       "116576  0.0  0.250000  1.0  1.0  0.666667  0.465347  0.0  0.333333  1.0\n",
       "116577  1.0  0.916667  0.0  0.0  0.000000  0.326733  1.0  1.000000  0.0\n",
       "116578  0.0  0.916667  1.0  0.0  0.000000  0.524752  0.0  1.000000  0.0\n",
       "116579  0.0  0.916667  1.0  1.0  1.000000  0.871287  0.0  0.333333  1.0\n",
       "116580  1.0  0.916667  0.0  1.0  1.000000  0.712871  1.0  0.333333  1.0\n",
       "\n",
       "[116581 rows x 9 columns]"
      ]
     },
     "execution_count": 89,
     "metadata": {},
     "output_type": "execute_result"
    }
   ],
   "source": [
    "x_val"
   ]
  },
  {
   "cell_type": "markdown",
   "id": "312f092c",
   "metadata": {},
   "source": [
    "now we prepared our data `train val test`"
   ]
  },
  {
   "cell_type": "markdown",
   "id": "a9d2c9cf",
   "metadata": {},
   "source": [
    "### Now we Build a Model \n",
    "\n",
    "1. Random Forest \n",
    "\n",
    "\n",
    "\n",
    "2. XGBOOST"
   ]
  },
  {
   "cell_type": "markdown",
   "id": "eec735e9",
   "metadata": {},
   "source": [
    "#### RANDOM FOREST"
   ]
  },
  {
   "cell_type": "code",
   "execution_count": 50,
   "id": "898cc8b4",
   "metadata": {},
   "outputs": [],
   "source": [
    "random_forest = RandomForestClassifier(n_estimators=200,random_state=42)\n",
    "\n",
    "random_forest.fit(x_train,y_train)\n",
    "\n",
    "val_acc = random_forest.score(x_val,y_val)\n",
    "\n",
    "test_acc = random_forest.score(x_test,y_test)"
   ]
  },
  {
   "cell_type": "code",
   "execution_count": 63,
   "id": "f811b89c",
   "metadata": {},
   "outputs": [
    {
     "name": "stdout",
     "output_type": "stream",
     "text": [
      "RANDOM FOREST ACCURACY (TEST): 0.9153193491702877\n",
      "RANDOM FOREST ACCURACY (VAL): 0.9140254415385012\n"
     ]
    }
   ],
   "source": [
    "print(f'RANDOM FOREST ACCURACY (TEST): {test_acc}')\n",
    "print(f'RANDOM FOREST ACCURACY (VAL): {val_acc}')"
   ]
  },
  {
   "cell_type": "code",
   "execution_count": 54,
   "id": "d3c5dc6a",
   "metadata": {},
   "outputs": [],
   "source": [
    "rf_y_pred = random_forest.predict(x_test)"
   ]
  },
  {
   "cell_type": "markdown",
   "id": "2d1237bd",
   "metadata": {},
   "source": [
    "### Classification Report"
   ]
  },
  {
   "cell_type": "code",
   "execution_count": 55,
   "id": "4f53718d",
   "metadata": {},
   "outputs": [
    {
     "name": "stdout",
     "output_type": "stream",
     "text": [
      "              precision    recall  f1-score   support\n",
      "\n",
      "           0       0.94      0.89      0.91    136013\n",
      "           1       0.89      0.94      0.92    136009\n",
      "\n",
      "    accuracy                           0.92    272022\n",
      "   macro avg       0.92      0.92      0.92    272022\n",
      "weighted avg       0.92      0.92      0.92    272022\n",
      "\n"
     ]
    }
   ],
   "source": [
    "from sklearn.metrics import classification_report,confusion_matrix\n",
    "\n",
    "\n",
    "print(classification_report(y_test,rf_y_pred))"
   ]
  },
  {
   "cell_type": "markdown",
   "id": "ec4a3d63",
   "metadata": {},
   "source": [
    "### Confusion Matrix"
   ]
  },
  {
   "cell_type": "code",
   "execution_count": 60,
   "id": "928a7299",
   "metadata": {},
   "outputs": [
    {
     "data": {
      "image/png": "[encoded data removed]",
      "text/plain": [
       "<Figure size 640x480 with 2 Axes>"
      ]
     },
     "metadata": {},
     "output_type": "display_data"
    }
   ],
   "source": [
    "cm = confusion_matrix(y_test,rf_y_pred)\n",
    "\n",
    "\n",
    "sns.heatmap(cm,\n",
    "           fmt='d',\n",
    "           cmap='cubehelix',\n",
    "           annot=True)\n",
    "plt.title('Confusion Matrix')\n",
    "\n",
    "plt.xlabel('Actual')\n",
    "\n",
    "plt.ylabel('Predicted');"
   ]
  },
  {
   "cell_type": "markdown",
   "id": "521ea22d",
   "metadata": {},
   "source": [
    "#### XGBOOST"
   ]
  },
  {
   "cell_type": "code",
   "execution_count": 43,
   "id": "17211c6c",
   "metadata": {},
   "outputs": [],
   "source": [
    "import xgboost as xgb\n",
    "\n",
    "xgb_model = xgb.XGBClassifier(n_estimators = 200,random_state=42)\n",
    "\n",
    "xgb_model.fit(x_train,y_train)\n",
    "\n",
    "val_score = xgb_model.score(x_val,y_val)\n",
    "\n",
    "test_score = xgb_model.score(x_test,y_test)"
   ]
  },
  {
   "cell_type": "code",
   "execution_count": 62,
   "id": "4e49f305",
   "metadata": {},
   "outputs": [
    {
     "name": "stdout",
     "output_type": "stream",
     "text": [
      "XGBOOST ACCURACY (TEST): 0.9088161986898119\n",
      "XGBOOST ACCURACY (VAL): 0.907609301687239\n"
     ]
    }
   ],
   "source": [
    "print(f'XGBOOST ACCURACY (TEST): {test_score}')\n",
    "print(f'XGBOOST ACCURACY (VAL): {val_score}')"
   ]
  },
  {
   "cell_type": "code",
   "execution_count": 45,
   "id": "3f14f3d7",
   "metadata": {},
   "outputs": [],
   "source": [
    "y_pred = xgb_model.predict(x_test)"
   ]
  },
  {
   "cell_type": "markdown",
   "id": "a9c7ef97",
   "metadata": {},
   "source": [
    "### Classification Report"
   ]
  },
  {
   "cell_type": "code",
   "execution_count": 46,
   "id": "93dfbbe6",
   "metadata": {},
   "outputs": [
    {
     "name": "stdout",
     "output_type": "stream",
     "text": [
      "              precision    recall  f1-score   support\n",
      "\n",
      "           0       0.93      0.88      0.91    136013\n",
      "           1       0.89      0.94      0.91    136009\n",
      "\n",
      "    accuracy                           0.91    272022\n",
      "   macro avg       0.91      0.91      0.91    272022\n",
      "weighted avg       0.91      0.91      0.91    272022\n",
      "\n"
     ]
    }
   ],
   "source": [
    "from sklearn.metrics import classification_report,confusion_matrix\n",
    "\n",
    "\n",
    "print(classification_report(y_test,y_pred))"
   ]
  },
  {
   "cell_type": "markdown",
   "id": "efe9c1d2",
   "metadata": {},
   "source": [
    "### Confusion Matrix"
   ]
  },
  {
   "cell_type": "code",
   "execution_count": 61,
   "id": "a55b0660",
   "metadata": {},
   "outputs": [
    {
     "data": {
      "image/png": "[encoded data removed]",
      "text/plain": [
       "<Figure size 640x480 with 2 Axes>"
      ]
     },
     "metadata": {},
     "output_type": "display_data"
    }
   ],
   "source": [
    "cm = confusion_matrix(y_test,y_pred)\n",
    "\n",
    "\n",
    "sns.heatmap(cm,\n",
    "           fmt='d',\n",
    "           cmap='cubehelix',\n",
    "           annot=True)\n",
    "plt.title('Confusion Matrix')\n",
    "\n",
    "plt.xlabel('Actual')\n",
    "\n",
    "plt.ylabel('Predicted');"
   ]
  },
  {
   "cell_type": "markdown",
   "id": "948fc8be",
   "metadata": {},
   "source": [
    "#### ROC CURVE FOR BOTH MODEL"
   ]
  },
  {
   "cell_type": "code",
   "execution_count": 65,
   "id": "c49b40c0",
   "metadata": {},
   "outputs": [
    {
     "data": {
      "image/png": "[encoded data removed]",
      "text/plain": [
       "<Figure size 640x480 with 1 Axes>"
      ]
     },
     "metadata": {},
     "output_type": "display_data"
    }
   ],
   "source": [
    "from sklearn.metrics import roc_curve, roc_auc_score\n",
    "y_prob = random_forest.predict_proba(x_test)[:, 1]\n",
    "fpr, tpr, thresholds = roc_curve(y_test, y_prob)\n",
    "plt.plot(fpr, tpr, label='ROC Curve')\n",
    "plt.xlabel('False Positive Rate')\n",
    "plt.ylabel('True Positive Rate')\n",
    "plt.title('Basic ROC Curve for Random Forest Classifier')\n",
    "plt.legend()\n",
    "plt.show()"
   ]
  },
  {
   "cell_type": "code",
   "execution_count": 71,
   "id": "d55d460e",
   "metadata": {},
   "outputs": [
    {
     "name": "stdout",
     "output_type": "stream",
     "text": [
      "Random Forest Classsifier ROC_AUC_SCORE : 0.9668473860023754\n"
     ]
    }
   ],
   "source": [
    "print(f'Random Forest Classsifier ROC_AUC_SCORE : {roc_auc_score(y_test,y_prob)}')"
   ]
  },
  {
   "cell_type": "code",
   "execution_count": 72,
   "id": "2dc3c371",
   "metadata": {},
   "outputs": [
    {
     "data": {
      "image/png": "[encoded data removed]",
      "text/plain": [
       "<Figure size 640x480 with 1 Axes>"
      ]
     },
     "metadata": {},
     "output_type": "display_data"
    }
   ],
   "source": [
    "from sklearn.metrics import roc_curve, roc_auc_score\n",
    "y_probs = xgb_model.predict_proba(x_test)[:, 1]\n",
    "fpr, tpr, thresholds = roc_curve(y_test, y_probs)\n",
    "plt.plot(fpr, tpr, label='ROC Curve')\n",
    "plt.xlabel('False Positive Rate')\n",
    "plt.ylabel('True Positive Rate')\n",
    "plt.title('Basic ROC Curve for XGB Classifier')\n",
    "plt.legend()\n",
    "plt.show()"
   ]
  },
  {
   "cell_type": "code",
   "execution_count": 73,
   "id": "52b01f8f",
   "metadata": {},
   "outputs": [
    {
     "name": "stdout",
     "output_type": "stream",
     "text": [
      "XGB Classsifier ROC_AUC_SCORE : 0.9635583987907919\n"
     ]
    }
   ],
   "source": [
    "print(f'XGB Classsifier ROC_AUC_SCORE : {roc_auc_score(y_test,y_probs)}')"
   ]
  },
  {
   "cell_type": "code",
   "execution_count": 75,
   "id": "593e97ee",
   "metadata": {},
   "outputs": [
    {
     "data": {
      "text/plain": [
       "['covid-19 model.pkl']"
      ]
     },
     "execution_count": 75,
     "metadata": {},
     "output_type": "execute_result"
    }
   ],
   "source": [
    "import joblib\n",
    "\n",
    "joblib.dump(random_forest,'covid-19 model.pkl')"
   ]
  },
  {
   "cell_type": "code",
   "execution_count": 214,
   "id": "f2cc041b",
   "metadata": {},
   "outputs": [
    {
     "data": {
      "text/plain": [
       "['covid-19 v2.joblib']"
      ]
     },
     "execution_count": 214,
     "metadata": {},
     "output_type": "execute_result"
    }
   ],
   "source": [
    "joblib.dump(random_forest,'covid-19 v2.joblib')"
   ]
  },
  {
   "cell_type": "code",
   "execution_count": 79,
   "id": "0a137ff9",
   "metadata": {},
   "outputs": [],
   "source": [
    "model = joblib.load('covid-19 model.pkl')"
   ]
  },
  {
   "cell_type": "code",
   "execution_count": 92,
   "id": "61ee0365",
   "metadata": {},
   "outputs": [
    {
     "data": {
      "text/html": [
       "<div>\n",
       "<style scoped>\n",
       "    .dataframe tbody tr th:only-of-type {\n",
       "        vertical-align: middle;\n",
       "    }\n",
       "\n",
       "    .dataframe tbody tr th {\n",
       "        vertical-align: top;\n",
       "    }\n",
       "\n",
       "    .dataframe thead th {\n",
       "        text-align: right;\n",
       "    }\n",
       "</style>\n",
       "<table border=\"1\" class=\"dataframe\">\n",
       "  <thead>\n",
       "    <tr style=\"text-align: right;\">\n",
       "      <th></th>\n",
       "      <th>USMER</th>\n",
       "      <th>MEDICAL_UNIT</th>\n",
       "      <th>SEX</th>\n",
       "      <th>PATIENT_TYPE</th>\n",
       "      <th>INTUBED</th>\n",
       "      <th>AGE</th>\n",
       "      <th>PREGNANT</th>\n",
       "      <th>CLASIFFICATION_FINAL</th>\n",
       "      <th>ICU</th>\n",
       "      <th>Target</th>\n",
       "    </tr>\n",
       "  </thead>\n",
       "  <tbody>\n",
       "    <tr>\n",
       "      <th>958166</th>\n",
       "      <td>2</td>\n",
       "      <td>12</td>\n",
       "      <td>1</td>\n",
       "      <td>1</td>\n",
       "      <td>-1.0</td>\n",
       "      <td>31.0</td>\n",
       "      <td>2.0</td>\n",
       "      <td>7</td>\n",
       "      <td>-1.0</td>\n",
       "      <td>0</td>\n",
       "    </tr>\n",
       "    <tr>\n",
       "      <th>22409</th>\n",
       "      <td>1</td>\n",
       "      <td>4</td>\n",
       "      <td>2</td>\n",
       "      <td>2</td>\n",
       "      <td>1.0</td>\n",
       "      <td>59.0</td>\n",
       "      <td>-1.0</td>\n",
       "      <td>3</td>\n",
       "      <td>2.0</td>\n",
       "      <td>1</td>\n",
       "    </tr>\n",
       "    <tr>\n",
       "      <th>448743</th>\n",
       "      <td>2</td>\n",
       "      <td>12</td>\n",
       "      <td>2</td>\n",
       "      <td>1</td>\n",
       "      <td>-1.0</td>\n",
       "      <td>93.0</td>\n",
       "      <td>-1.0</td>\n",
       "      <td>3</td>\n",
       "      <td>-1.0</td>\n",
       "      <td>1</td>\n",
       "    </tr>\n",
       "    <tr>\n",
       "      <th>462942</th>\n",
       "      <td>1</td>\n",
       "      <td>12</td>\n",
       "      <td>2</td>\n",
       "      <td>2</td>\n",
       "      <td>2.0</td>\n",
       "      <td>56.0</td>\n",
       "      <td>-1.0</td>\n",
       "      <td>7</td>\n",
       "      <td>2.0</td>\n",
       "      <td>1</td>\n",
       "    </tr>\n",
       "    <tr>\n",
       "      <th>48467</th>\n",
       "      <td>2</td>\n",
       "      <td>4</td>\n",
       "      <td>2</td>\n",
       "      <td>2</td>\n",
       "      <td>1.0</td>\n",
       "      <td>71.0</td>\n",
       "      <td>-1.0</td>\n",
       "      <td>3</td>\n",
       "      <td>2.0</td>\n",
       "      <td>1</td>\n",
       "    </tr>\n",
       "    <tr>\n",
       "      <th>...</th>\n",
       "      <td>...</td>\n",
       "      <td>...</td>\n",
       "      <td>...</td>\n",
       "      <td>...</td>\n",
       "      <td>...</td>\n",
       "      <td>...</td>\n",
       "      <td>...</td>\n",
       "      <td>...</td>\n",
       "      <td>...</td>\n",
       "      <td>...</td>\n",
       "    </tr>\n",
       "    <tr>\n",
       "      <th>431553</th>\n",
       "      <td>2</td>\n",
       "      <td>10</td>\n",
       "      <td>2</td>\n",
       "      <td>2</td>\n",
       "      <td>2.0</td>\n",
       "      <td>77.0</td>\n",
       "      <td>-1.0</td>\n",
       "      <td>6</td>\n",
       "      <td>2.0</td>\n",
       "      <td>1</td>\n",
       "    </tr>\n",
       "    <tr>\n",
       "      <th>514292</th>\n",
       "      <td>1</td>\n",
       "      <td>12</td>\n",
       "      <td>1</td>\n",
       "      <td>2</td>\n",
       "      <td>2.0</td>\n",
       "      <td>66.0</td>\n",
       "      <td>2.0</td>\n",
       "      <td>3</td>\n",
       "      <td>2.0</td>\n",
       "      <td>0</td>\n",
       "    </tr>\n",
       "    <tr>\n",
       "      <th>436673</th>\n",
       "      <td>2</td>\n",
       "      <td>10</td>\n",
       "      <td>2</td>\n",
       "      <td>1</td>\n",
       "      <td>-1.0</td>\n",
       "      <td>45.0</td>\n",
       "      <td>-1.0</td>\n",
       "      <td>6</td>\n",
       "      <td>-1.0</td>\n",
       "      <td>0</td>\n",
       "    </tr>\n",
       "    <tr>\n",
       "      <th>1040351</th>\n",
       "      <td>2</td>\n",
       "      <td>12</td>\n",
       "      <td>2</td>\n",
       "      <td>1</td>\n",
       "      <td>-1.0</td>\n",
       "      <td>40.0</td>\n",
       "      <td>-1.0</td>\n",
       "      <td>7</td>\n",
       "      <td>-1.0</td>\n",
       "      <td>0</td>\n",
       "    </tr>\n",
       "    <tr>\n",
       "      <th>702396</th>\n",
       "      <td>2</td>\n",
       "      <td>12</td>\n",
       "      <td>2</td>\n",
       "      <td>1</td>\n",
       "      <td>-1.0</td>\n",
       "      <td>49.0</td>\n",
       "      <td>-1.0</td>\n",
       "      <td>6</td>\n",
       "      <td>-1.0</td>\n",
       "      <td>0</td>\n",
       "    </tr>\n",
       "  </tbody>\n",
       "</table>\n",
       "<p>1554376 rows × 10 columns</p>\n",
       "</div>"
      ],
      "text/plain": [
       "         USMER  MEDICAL_UNIT  SEX  PATIENT_TYPE  INTUBED   AGE  PREGNANT  \\\n",
       "958166       2            12    1             1     -1.0  31.0       2.0   \n",
       "22409        1             4    2             2      1.0  59.0      -1.0   \n",
       "448743       2            12    2             1     -1.0  93.0      -1.0   \n",
       "462942       1            12    2             2      2.0  56.0      -1.0   \n",
       "48467        2             4    2             2      1.0  71.0      -1.0   \n",
       "...        ...           ...  ...           ...      ...   ...       ...   \n",
       "431553       2            10    2             2      2.0  77.0      -1.0   \n",
       "514292       1            12    1             2      2.0  66.0       2.0   \n",
       "436673       2            10    2             1     -1.0  45.0      -1.0   \n",
       "1040351      2            12    2             1     -1.0  40.0      -1.0   \n",
       "702396       2            12    2             1     -1.0  49.0      -1.0   \n",
       "\n",
       "         CLASIFFICATION_FINAL  ICU  Target  \n",
       "958166                      7 -1.0       0  \n",
       "22409                       3  2.0       1  \n",
       "448743                      3 -1.0       1  \n",
       "462942                      7  2.0       1  \n",
       "48467                       3  2.0       1  \n",
       "...                       ...  ...     ...  \n",
       "431553                      6  2.0       1  \n",
       "514292                      3  2.0       0  \n",
       "436673                      6 -1.0       0  \n",
       "1040351                     7 -1.0       0  \n",
       "702396                      6 -1.0       0  \n",
       "\n",
       "[1554376 rows x 10 columns]"
      ]
     },
     "execution_count": 92,
     "metadata": {},
     "output_type": "execute_result"
    }
   ],
   "source": [
    "train"
   ]
  },
  {
   "cell_type": "markdown",
   "id": "22fb944f",
   "metadata": {},
   "source": [
    "Indicates whether the patient treated medical units of the first, second or third level."
   ]
  },
  {
   "cell_type": "code",
   "execution_count": 208,
   "id": "7d45e6e2",
   "metadata": {},
   "outputs": [],
   "source": [
    "class_name = ['not in a risk','patient in risk']"
   ]
  },
  {
   "cell_type": "code",
   "execution_count": 212,
   "id": "9df2898a",
   "metadata": {},
   "outputs": [
    {
     "name": "stderr",
     "output_type": "stream",
     "text": [
      "C:\\Users\\thesu\\anaconda3\\lib\\site-packages\\sklearn\\base.py:465: UserWarning: X does not have valid feature names, but MinMaxScaler was fitted with feature names\n",
      "  warnings.warn(\n"
     ]
    }
   ],
   "source": [
    "values = np.array([[2,2,2,2,1,23,1,2,2]])\n",
    "values_scaled = scaler.transform(values)\n",
    "predicted = model.predict(values_scaled)"
   ]
  },
  {
   "cell_type": "code",
   "execution_count": 213,
   "id": "5f73ab3b",
   "metadata": {},
   "outputs": [
    {
     "data": {
      "text/plain": [
       "'patient in risk'"
      ]
     },
     "execution_count": 213,
     "metadata": {},
     "output_type": "execute_result"
    }
   ],
   "source": [
    "class_name[predicted[0]]"
   ]
  },
  {
   "cell_type": "code",
   "execution_count": 192,
   "id": "ef6bd728",
   "metadata": {},
   "outputs": [
    {
     "data": {
      "text/plain": [
       "array([  2.,  13.,   2.,   2.,   2., 100.,   2.,   7.,   2.])"
      ]
     },
     "execution_count": 192,
     "metadata": {},
     "output_type": "execute_result"
    }
   ],
   "source": [
    "scaler.data_max_"
   ]
  },
  {
   "cell_type": "code",
   "execution_count": 194,
   "id": "f8f61227",
   "metadata": {},
   "outputs": [
    {
     "data": {
      "text/plain": [
       "array([[0.        , 0.58333333, 1.        , 1.        , 0.66666667,\n",
       "        0.61386139, 0.        , 0.33333333, 0.66666667]])"
      ]
     },
     "execution_count": 194,
     "metadata": {},
     "output_type": "execute_result"
    }
   ],
   "source": [
    "values_scaled"
   ]
  },
  {
   "cell_type": "code",
   "execution_count": 150,
   "id": "f0e9edc7",
   "metadata": {},
   "outputs": [],
   "source": [
    "train.to_csv('training_csv',index=False)"
   ]
  },
  {
   "cell_type": "code",
   "execution_count": 190,
   "id": "ecffd4e3",
   "metadata": {},
   "outputs": [
    {
     "data": {
      "text/html": [
       "<div>\n",
       "<style scoped>\n",
       "    .dataframe tbody tr th:only-of-type {\n",
       "        vertical-align: middle;\n",
       "    }\n",
       "\n",
       "    .dataframe tbody tr th {\n",
       "        vertical-align: top;\n",
       "    }\n",
       "\n",
       "    .dataframe thead th {\n",
       "        text-align: right;\n",
       "    }\n",
       "</style>\n",
       "<table border=\"1\" class=\"dataframe\">\n",
       "  <thead>\n",
       "    <tr style=\"text-align: right;\">\n",
       "      <th></th>\n",
       "      <th>USMER</th>\n",
       "      <th>MEDICAL_UNIT</th>\n",
       "      <th>SEX</th>\n",
       "      <th>PATIENT_TYPE</th>\n",
       "      <th>INTUBED</th>\n",
       "      <th>AGE</th>\n",
       "      <th>PREGNANT</th>\n",
       "      <th>CLASIFFICATION_FINAL</th>\n",
       "      <th>ICU</th>\n",
       "      <th>Target</th>\n",
       "    </tr>\n",
       "  </thead>\n",
       "  <tbody>\n",
       "    <tr>\n",
       "      <th>31824</th>\n",
       "      <td>2</td>\n",
       "      <td>4</td>\n",
       "      <td>2</td>\n",
       "      <td>2</td>\n",
       "      <td>1.0</td>\n",
       "      <td>64.0</td>\n",
       "      <td>-1.0</td>\n",
       "      <td>2</td>\n",
       "      <td>2.0</td>\n",
       "      <td>1</td>\n",
       "    </tr>\n",
       "    <tr>\n",
       "      <th>229480</th>\n",
       "      <td>2</td>\n",
       "      <td>4</td>\n",
       "      <td>1</td>\n",
       "      <td>1</td>\n",
       "      <td>-1.0</td>\n",
       "      <td>35.0</td>\n",
       "      <td>2.0</td>\n",
       "      <td>7</td>\n",
       "      <td>-1.0</td>\n",
       "      <td>0</td>\n",
       "    </tr>\n",
       "    <tr>\n",
       "      <th>383481</th>\n",
       "      <td>1</td>\n",
       "      <td>8</td>\n",
       "      <td>2</td>\n",
       "      <td>2</td>\n",
       "      <td>1.0</td>\n",
       "      <td>61.0</td>\n",
       "      <td>-1.0</td>\n",
       "      <td>3</td>\n",
       "      <td>1.0</td>\n",
       "      <td>1</td>\n",
       "    </tr>\n",
       "    <tr>\n",
       "      <th>42216</th>\n",
       "      <td>2</td>\n",
       "      <td>4</td>\n",
       "      <td>2</td>\n",
       "      <td>2</td>\n",
       "      <td>2.0</td>\n",
       "      <td>56.0</td>\n",
       "      <td>-1.0</td>\n",
       "      <td>7</td>\n",
       "      <td>2.0</td>\n",
       "      <td>1</td>\n",
       "    </tr>\n",
       "    <tr>\n",
       "      <th>524882</th>\n",
       "      <td>1</td>\n",
       "      <td>12</td>\n",
       "      <td>1</td>\n",
       "      <td>1</td>\n",
       "      <td>-1.0</td>\n",
       "      <td>42.0</td>\n",
       "      <td>1.0</td>\n",
       "      <td>3</td>\n",
       "      <td>-1.0</td>\n",
       "      <td>0</td>\n",
       "    </tr>\n",
       "    <tr>\n",
       "      <th>...</th>\n",
       "      <td>...</td>\n",
       "      <td>...</td>\n",
       "      <td>...</td>\n",
       "      <td>...</td>\n",
       "      <td>...</td>\n",
       "      <td>...</td>\n",
       "      <td>...</td>\n",
       "      <td>...</td>\n",
       "      <td>...</td>\n",
       "      <td>...</td>\n",
       "    </tr>\n",
       "    <tr>\n",
       "      <th>467575</th>\n",
       "      <td>1</td>\n",
       "      <td>12</td>\n",
       "      <td>2</td>\n",
       "      <td>2</td>\n",
       "      <td>2.0</td>\n",
       "      <td>62.0</td>\n",
       "      <td>-1.0</td>\n",
       "      <td>3</td>\n",
       "      <td>2.0</td>\n",
       "      <td>1</td>\n",
       "    </tr>\n",
       "    <tr>\n",
       "      <th>448303</th>\n",
       "      <td>1</td>\n",
       "      <td>12</td>\n",
       "      <td>1</td>\n",
       "      <td>2</td>\n",
       "      <td>2.0</td>\n",
       "      <td>73.0</td>\n",
       "      <td>2.0</td>\n",
       "      <td>3</td>\n",
       "      <td>2.0</td>\n",
       "      <td>1</td>\n",
       "    </tr>\n",
       "    <tr>\n",
       "      <th>33868</th>\n",
       "      <td>2</td>\n",
       "      <td>4</td>\n",
       "      <td>2</td>\n",
       "      <td>1</td>\n",
       "      <td>-1.0</td>\n",
       "      <td>71.0</td>\n",
       "      <td>-1.0</td>\n",
       "      <td>3</td>\n",
       "      <td>-1.0</td>\n",
       "      <td>1</td>\n",
       "    </tr>\n",
       "    <tr>\n",
       "      <th>43478</th>\n",
       "      <td>1</td>\n",
       "      <td>4</td>\n",
       "      <td>1</td>\n",
       "      <td>2</td>\n",
       "      <td>2.0</td>\n",
       "      <td>80.0</td>\n",
       "      <td>2.0</td>\n",
       "      <td>7</td>\n",
       "      <td>2.0</td>\n",
       "      <td>1</td>\n",
       "    </tr>\n",
       "    <tr>\n",
       "      <th>884704</th>\n",
       "      <td>2</td>\n",
       "      <td>12</td>\n",
       "      <td>1</td>\n",
       "      <td>1</td>\n",
       "      <td>-1.0</td>\n",
       "      <td>44.0</td>\n",
       "      <td>2.0</td>\n",
       "      <td>7</td>\n",
       "      <td>-1.0</td>\n",
       "      <td>0</td>\n",
       "    </tr>\n",
       "  </tbody>\n",
       "</table>\n",
       "<p>272022 rows × 10 columns</p>\n",
       "</div>"
      ],
      "text/plain": [
       "        USMER  MEDICAL_UNIT  SEX  PATIENT_TYPE  INTUBED   AGE  PREGNANT  \\\n",
       "31824       2             4    2             2      1.0  64.0      -1.0   \n",
       "229480      2             4    1             1     -1.0  35.0       2.0   \n",
       "383481      1             8    2             2      1.0  61.0      -1.0   \n",
       "42216       2             4    2             2      2.0  56.0      -1.0   \n",
       "524882      1            12    1             1     -1.0  42.0       1.0   \n",
       "...       ...           ...  ...           ...      ...   ...       ...   \n",
       "467575      1            12    2             2      2.0  62.0      -1.0   \n",
       "448303      1            12    1             2      2.0  73.0       2.0   \n",
       "33868       2             4    2             1     -1.0  71.0      -1.0   \n",
       "43478       1             4    1             2      2.0  80.0       2.0   \n",
       "884704      2            12    1             1     -1.0  44.0       2.0   \n",
       "\n",
       "        CLASIFFICATION_FINAL  ICU  Target  \n",
       "31824                      2  2.0       1  \n",
       "229480                     7 -1.0       0  \n",
       "383481                     3  1.0       1  \n",
       "42216                      7  2.0       1  \n",
       "524882                     3 -1.0       0  \n",
       "...                      ...  ...     ...  \n",
       "467575                     3  2.0       1  \n",
       "448303                     3  2.0       1  \n",
       "33868                      3 -1.0       1  \n",
       "43478                      7  2.0       1  \n",
       "884704                     7 -1.0       0  \n",
       "\n",
       "[272022 rows x 10 columns]"
      ]
     },
     "execution_count": 190,
     "metadata": {},
     "output_type": "execute_result"
    }
   ],
   "source": [
    "test"
   ]
  }
 ],
 "metadata": {
  "kernelspec": {
   "display_name": "Python 3 (ipykernel)",
   "language": "python",
   "name": "python3"
  },
  "language_info": {
   "codemirror_mode": {
    "name": "ipython",
    "version": 3
   },
   "file_extension": ".py",
   "mimetype": "text/x-python",
   "name": "python",
   "nbconvert_exporter": "python",
   "pygments_lexer": "ipython3",
   "version": "3.9.18"
  }
 },
 "nbformat": 4,
 "nbformat_minor": 5
}
